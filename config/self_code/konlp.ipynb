{
 "cells": [
  {
   "cell_type": "markdown",
   "metadata": {},
   "source": [
    "## Konlpy\n",
    "- konlpy.tag : 품사 태깅을 하기 위한 옵션. 모두 문구를 입력받아 태깅된 형태소를 출력하는 동일한 입출력 구조를 가짐\n",
    "    - Mecab() : Windows에서는 지원하지 않음\n",
    "    - Okt : Open-source Korean Tokenizer written in Scala\n",
    "- konlpy.utils.pprint : 유니코드 Pretty printer\n",
    "<br><br>\n",
    "**Ref.**\n",
    "[형태소 분석 및 품사 태깅](https://konlpy.org/ko/v0.6.0/morph/)\n",
    "[tag Package](https://konlpy.org/ko/v0.6.0/api/konlpy.tag/)\n",
    "[utils Module](https://konlpy-ko.readthedocs.io/ko/v0.4.3/api/konlpy/#module-konlpy.utils)\n"
   ]
  },
  {
   "cell_type": "code",
   "execution_count": 1,
   "metadata": {},
   "outputs": [],
   "source": [
    "import konlpy\n",
    "\n",
    "from konlpy.tag import Kkma, Komoran, Hannanum, Okt\n",
    "from konlpy.utils import pprint"
   ]
  },
  {
   "cell_type": "code",
   "execution_count": 2,
   "metadata": {},
   "outputs": [
    {
     "name": "stdout",
     "output_type": "stream",
     "text": [
      "<konlpy.tag._kkma.Kkma object at 0x0000021207F8FA30>\n",
      "['해당', '패키지', '는', '한국어', '문장', '에', '대하', '어', '토크', '나이', '징', '을', '실시', '하', '여', '품사', '에', '대하', 'ㄴ', '형태소', '를', '출력', '하', 'ㅂ니다', '.']\n",
      "[('해당', 'NNG'), ('패키지', 'NNG'), ('는', 'JX'), ('한국어', 'NNG'), ('문장', 'NNG'), ('에', 'JKM'), ('대하', 'VV'), ('어', 'ECS'), ('토크', 'NNG'), ('나이', 'NNG'), ('징', 'NNG'), ('을', 'JKO'), ('실시', 'NNG'), ('하', 'XSV'), ('여', 'ECS'), ('품사', 'NNG'), ('에', 'JKM'), ('대하', 'VV'), ('ㄴ', 'ETD'), ('형태소', 'NNG'), ('를', 'JKO'), ('출력', 'NNG'), ('하', 'XSV'), ('ㅂ니다', 'EFN'), ('.', 'SF')]\n",
      "{'EC': '연결 어미', 'ECD': '의존적 연결 어미', 'ECE': '대등 연결 어미', 'ECS': '보조적 연결 어미', 'EF': '종결 어미', 'EFA': '청유형 종결 어미', 'EFI': '감탄형 종결 어미', 'EFN': '평서형 종결 어미', 'EFO': '명령형 종결 어미', 'EFQ': '의문형 종결 어미', 'EFR': '존칭형 종결 어미', 'EP': '선어말 어미', 'EPH': '존칭 선어말 어미', 'EPP': '공손 선어말 어미', 'EPT': '시제 선어말 어미', 'ET': '전성 어미', 'ETD': '관형형 전성 어미', 'ETN': '명사형 전성 어미', 'IC': '감탄사', 'JC': '접속 조사', 'JK': '조사', 'JKC': '보격 조사', 'JKG': '관형격 조사', 'JKI': '호격 조사', 'JKM': '부사격 조사', 'JKO': '목적격 조사', 'JKQ': '인용격 조사', 'JKS': '주격 조사', 'JX': '보조사', 'MA': '부사', 'MAC': '접속 부사', 'MAG': '일반 부사', 'MD': '관형사', 'MDN': '수 관형사', 'MDT': '일반 관형사', 'NN': '명사', 'NNB': '일반 의존 명사', 'NNG': '보통명사', 'NNM': '단위 의존 명사', 'NNP': '고유명사', 'NP': '대명사', 'NR': '수사', 'OH': '한자', 'OL': '외국어', 'ON': '숫자', 'SE': '줄임표', 'SF': '마침표, 물음표, 느낌표', 'SO': '붙임표(물결,숨김,빠짐)', 'SP': '쉼표,가운뎃점,콜론,빗금', 'SS': '따옴표,괄호표,줄표', 'SW': '기타기호 (논리수학기호,화폐기호)', 'UN': '명사추정범주', 'VA': '형용사', 'VC': '지정사', 'VCN': \"부정 지정사, 형용사 '아니다'\", 'VCP': \"긍정 지정사, 서술격 조사 '이다'\", 'VV': '동사', 'VX': '보조 용언', 'VXA': '보조 형용사', 'VXV': '보조 동사', 'XP': '접두사', 'XPN': '체언 접두사', 'XPV': '용언 접두사', 'XR': '어근', 'XSA': '형용사 파생 접미사', 'XSN': '명사파생 접미사', 'XSV': '동사 파생 접미사'}\n",
      "<konlpy.tag._komoran.Komoran object at 0x0000021207F321F0>\n",
      "['해당', '패키지', '는', '한국어', '문장', '에', '대하', '아', '토크', '나', '이징', '을', '실시', '하', '아', '품사', '에', '대하', 'ㄴ', '형태소', '를', '출력', '하', 'ㅂ니다', '.']\n",
      "[('해당', 'NNG'), ('패키지', 'NNP'), ('는', 'JX'), ('한국어', 'NNP'), ('문장', 'NNG'), ('에', 'JKB'), ('대하', 'VV'), ('아', 'EC'), ('토크', 'NNP'), ('나', 'JC'), ('이징', 'NNP'), ('을', 'JKO'), ('실시', 'NNG'), ('하', 'XSV'), ('아', 'EC'), ('품사', 'NNP'), ('에', 'JKB'), ('대하', 'VV'), ('ㄴ', 'ETM'), ('형태소', 'NNP'), ('를', 'JKO'), ('출력', 'NNG'), ('하', 'XSV'), ('ㅂ니다', 'EF'), ('.', 'SF')]\n",
      "{'EC': '연결 어미', 'EF': '종결 어미', 'EP': '선어말어미', 'ETM': '관형형 전성 어미', 'ETN': '명사형 전성 어미', 'IC': '감탄사', 'JC': '접속 조사', 'JKB': '부사격 조사', 'JKC': '보격 조사', 'JKG': '관형격 조사', 'JKO': '목적격 조사', 'JKQ': '인용격 조사', 'JKS': '주격 조사', 'JKV': '호격 조사', 'JX': '보조사', 'MAG': '일반 부사', 'MAJ': '접속 부사', 'MM': '관형사', 'NA': '분석불능범주', 'NF': '명사추정범주', 'NNB': '의존 명사', 'NNG': '일반 명사', 'NNP': '고유 명사', 'NP': '대명사', 'NR': '수사', 'NV': '용언추정범주', 'SE': '줄임표', 'SF': '마침표, 물음표, 느낌표', 'SH': '한자', 'SL': '외국어', 'SN': '숫자', 'SO': '붙임표(물결,숨김,빠짐)', 'SP': '쉼표,가운뎃점,콜론,빗금', 'SS': '따옴표,괄호표,줄표', 'SW': '기타기호 (논리수학기호,화폐기호)', 'VA': '형용사', 'VCN': '부정 지정사', 'VCP': '긍정 지정사', 'VV': '동사', 'VX': '보조 용언', 'XPN': '체언 접두사', 'XR': '어근', 'XSA': '형용사 파생 접미사', 'XSN': '명사파생 접미사', 'XSV': '동사 파생 접미사'}\n",
      "<konlpy.tag._hannanum.Hannanum object at 0x0000021207D97F10>\n",
      "['해당', '패키지', '는', '한국어', '문장', '에', '대', '어', '하', '어', '토크나이징', '을', '실시', '하', '어', '품사', '에', '대하', 'ㄴ', '형태소', '를', '출력', '하', 'ㅂ니다', '.']\n",
      "[('해당', 'N'), ('패키지', 'N'), ('는', 'J'), ('한국어', 'N'), ('문장', 'N'), ('에', 'J'), ('대', 'P'), ('어', 'E'), ('하', 'P'), ('어', 'E'), ('토크나이징', 'N'), ('을', 'J'), ('실시', 'N'), ('하', 'X'), ('어', 'E'), ('품사', 'N'), ('에', 'J'), ('대하', 'P'), ('ㄴ', 'E'), ('형태소', 'N'), ('를', 'J'), ('출력', 'N'), ('하', 'X'), ('ㅂ니다', 'E'), ('.', 'S')]\n",
      "{'E': '어미', 'EC': '연결 어미', 'EF': '종결 어미', 'EP': '선어말어미', 'ET': '전성 어미', 'F': '외국어', 'I': '독립언', 'II': '감탄사', 'J': '관계언', 'JC': '격조사', 'JP': '서술격 조사', 'JX': '보조사', 'M': '수식언', 'MA': '부사', 'MM': '관형사', 'N': '체언', 'NB': '의존명사', 'NC': '보통명사', 'NN': '수사', 'NP': '대명사', 'NQ': '고유명사', 'P': '용언', 'PA': '형용사', 'PV': '동사', 'PX': '보조 용언', 'S': '기호', 'X': '접사', 'XP': '접두사', 'XS': '접미사'}\n"
     ]
    }
   ],
   "source": [
    "sentence = '해당 패키지는 한국어 문장에 대해 토크나이징을 실시하여 품사에 대한 형태소를 출력합니다.'\n",
    "kkma, komoran, hannanum = Kkma(), Komoran(), Hannanum()\n",
    "analyzers = [kkma, komoran, hannanum]\n",
    "\n",
    "for analyzer in analyzers:\n",
    "    print(str(analyzer))\n",
    "    print(analyzer.morphs(sentence))\n",
    "    print(analyzer.pos(sentence))\n",
    "    print(analyzer.tagset)"
   ]
  },
  {
   "cell_type": "markdown",
   "metadata": {},
   "source": [
    "## Library and Data"
   ]
  },
  {
   "cell_type": "code",
   "execution_count": 3,
   "metadata": {},
   "outputs": [],
   "source": [
    "import numpy as np\n",
    "import pandas as pd\n",
    "import matplotlib as plt\n",
    "%matplotlib inline\n",
    "\n",
    "import tensorflow as tf\n",
    "\n",
    "from konlpy.tag import Okt"
   ]
  },
  {
   "cell_type": "code",
   "execution_count": 4,
   "metadata": {},
   "outputs": [
    {
     "data": {
      "text/html": [
       "<div>\n",
       "<style scoped>\n",
       "    .dataframe tbody tr th:only-of-type {\n",
       "        vertical-align: middle;\n",
       "    }\n",
       "\n",
       "    .dataframe tbody tr th {\n",
       "        vertical-align: top;\n",
       "    }\n",
       "\n",
       "    .dataframe thead th {\n",
       "        text-align: right;\n",
       "    }\n",
       "</style>\n",
       "<table border=\"1\" class=\"dataframe\">\n",
       "  <thead>\n",
       "    <tr style=\"text-align: right;\">\n",
       "      <th></th>\n",
       "      <th>Q</th>\n",
       "      <th>A</th>\n",
       "      <th>label</th>\n",
       "    </tr>\n",
       "  </thead>\n",
       "  <tbody>\n",
       "    <tr>\n",
       "      <th>0</th>\n",
       "      <td>12시 땡!</td>\n",
       "      <td>하루가 또 가네요.</td>\n",
       "      <td>0</td>\n",
       "    </tr>\n",
       "    <tr>\n",
       "      <th>1</th>\n",
       "      <td>1지망 학교 떨어졌어</td>\n",
       "      <td>위로해 드립니다.</td>\n",
       "      <td>0</td>\n",
       "    </tr>\n",
       "    <tr>\n",
       "      <th>2</th>\n",
       "      <td>3박4일 놀러가고 싶다</td>\n",
       "      <td>여행은 언제나 좋죠.</td>\n",
       "      <td>0</td>\n",
       "    </tr>\n",
       "    <tr>\n",
       "      <th>3</th>\n",
       "      <td>3박4일 정도 놀러가고 싶다</td>\n",
       "      <td>여행은 언제나 좋죠.</td>\n",
       "      <td>0</td>\n",
       "    </tr>\n",
       "    <tr>\n",
       "      <th>4</th>\n",
       "      <td>PPL 심하네</td>\n",
       "      <td>눈살이 찌푸려지죠.</td>\n",
       "      <td>0</td>\n",
       "    </tr>\n",
       "  </tbody>\n",
       "</table>\n",
       "</div>"
      ],
      "text/plain": [
       "                 Q            A  label\n",
       "0           12시 땡!   하루가 또 가네요.      0\n",
       "1      1지망 학교 떨어졌어    위로해 드립니다.      0\n",
       "2     3박4일 놀러가고 싶다  여행은 언제나 좋죠.      0\n",
       "3  3박4일 정도 놀러가고 싶다  여행은 언제나 좋죠.      0\n",
       "4          PPL 심하네   눈살이 찌푸려지죠.      0"
      ]
     },
     "execution_count": 4,
     "metadata": {},
     "output_type": "execute_result"
    }
   ],
   "source": [
    "DATA_PATH = '../../data/'\n",
    "data = pd.read_csv(DATA_PATH + 'ChatbotData.csv', encoding='utf-8')\n",
    "data.head()"
   ]
  },
  {
   "cell_type": "code",
   "execution_count": 19,
   "metadata": {},
   "outputs": [
    {
     "name": "stdout",
     "output_type": "stream",
     "text": [
      "12시 땡!\n",
      "[('12시', 'Number'), ('땡', 'Foreign'), ('!', 'Punctuation')]\n",
      "[('12시', 'Number'), ('땡', 'Noun'), ('!', 'Punctuation')]\n",
      "1지망 학교 떨어졌어\n",
      "[('1', 'Number'), ('지망', 'Noun'), ('학교', 'Noun'), ('떨어졌어', 'Verb')]\n",
      "[('1', 'Number'), ('지망', 'Noun'), ('학교', 'Noun'), ('떨어졌어', 'Verb')]\n",
      "3박4일 놀러가고 싶다\n",
      "[('3', 'Number'), ('박', 'Noun'), ('4일', 'Number'), ('놀러가고싶다', 'Foreign')]\n",
      "[('3', 'Number'), ('박', 'Noun'), ('4일', 'Number'), ('놀러', 'Verb'), ('가고', 'Verb'), ('싶다', 'Verb')]\n",
      "3박4일 정도 놀러가고 싶다\n",
      "[('3', 'Number'), ('박', 'Noun'), ('4일', 'Number'), ('정도놀러가고싶다', 'Foreign')]\n",
      "[('3', 'Number'), ('박', 'Noun'), ('4일', 'Number'), ('정도', 'Noun'), ('놀러', 'Verb'), ('가고', 'Verb'), ('싶다', 'Verb')]\n",
      "PPL 심하네\n",
      "[('PPL', 'Alpha'), ('심하네', 'Adjective')]\n",
      "[('PPL', 'Alpha'), ('심하네', 'Adjective')]\n"
     ]
    }
   ],
   "source": [
    "# Tokenize Sentences and convert to '형태소'\n",
    "okt = Okt()\n",
    "\n",
    "q = list(data['Q'])\n",
    "for i in range(5):\n",
    "    s = q[i]\n",
    "    print(s)\n",
    "    print(okt.pos(s.replace(' ','')))\n",
    "    print(okt.pos(s))"
   ]
  },
  {
   "cell_type": "markdown",
   "metadata": {},
   "source": [
    "#### Analysis\n",
    "- '4일'을 '4'와 '일'로 구분해야 하는데 하나의 형태소로 인식\n",
    "- replace() 함수를 사용해서 문장을 하나로 통합할 경우, 형태소 분리의 미흡함을 보임\n",
    "    - '놀러 가고 싶다'와 '놀러가고싶다'로 입력할 때의 결과에서 차이가 발생"
   ]
  },
  {
   "cell_type": "code",
   "execution_count": 20,
   "metadata": {},
   "outputs": [
    {
     "name": "stdout",
     "output_type": "stream",
     "text": [
      "하루가 또 가네요.\n",
      "[('하루', 'Noun'), ('가', 'Josa'), ('또', 'Noun'), ('가네요', 'Verb'), ('.', 'Punctuation')]\n",
      "[('하루', 'Noun'), ('가', 'Josa'), ('또', 'Noun'), ('가네요', 'Verb'), ('.', 'Punctuation')]\n",
      "위로해 드립니다.\n",
      "[('위로', 'Noun'), ('해드립니다', 'Verb'), ('.', 'Punctuation')]\n",
      "[('위로', 'Noun'), ('해', 'Verb'), ('드립니다', 'Verb'), ('.', 'Punctuation')]\n",
      "여행은 언제나 좋죠.\n",
      "[('여행', 'Noun'), ('은', 'Josa'), ('언제나', 'Adverb'), ('좋죠', 'Adjective'), ('.', 'Punctuation')]\n",
      "[('여행', 'Noun'), ('은', 'Josa'), ('언제나', 'Adverb'), ('좋죠', 'Adjective'), ('.', 'Punctuation')]\n",
      "여행은 언제나 좋죠.\n",
      "[('여행', 'Noun'), ('은', 'Josa'), ('언제나', 'Adverb'), ('좋죠', 'Adjective'), ('.', 'Punctuation')]\n",
      "[('여행', 'Noun'), ('은', 'Josa'), ('언제나', 'Adverb'), ('좋죠', 'Adjective'), ('.', 'Punctuation')]\n",
      "눈살이 찌푸려지죠.\n",
      "[('눈살', 'Noun'), ('이', 'Josa'), ('찌푸려지죠', 'Verb'), ('.', 'Punctuation')]\n",
      "[('눈살', 'Noun'), ('이', 'Josa'), ('찌푸려지죠', 'Verb'), ('.', 'Punctuation')]\n"
     ]
    }
   ],
   "source": [
    "a = list(data['A'])\n",
    "for i in range(5):\n",
    "    s = a[i]\n",
    "    print(s)\n",
    "    print(okt.pos(s.replace(' ','')))\n",
    "    print(okt.pos(s))"
   ]
  }
 ],
 "metadata": {
  "kernelspec": {
   "display_name": "ml_venv",
   "language": "python",
   "name": "python3"
  },
  "language_info": {
   "codemirror_mode": {
    "name": "ipython",
    "version": 3
   },
   "file_extension": ".py",
   "mimetype": "text/x-python",
   "name": "python",
   "nbconvert_exporter": "python",
   "pygments_lexer": "ipython3",
   "version": "3.9.15"
  }
 },
 "nbformat": 4,
 "nbformat_minor": 2
}
